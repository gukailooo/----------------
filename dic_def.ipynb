{
 "cells": [
  {
   "cell_type": "code",
   "execution_count": 85,
   "metadata": {},
   "outputs": [],
   "source": [
    "'''\n",
    "Используемые библиотеки\n",
    "'''\n",
    "\n",
    "from decimal import Decimal, getcontext\n",
    "import math\n"
   ]
  },
  {
   "cell_type": "code",
   "execution_count": 86,
   "metadata": {},
   "outputs": [],
   "source": [
    "def sqrt_with_precision(get_number, precision=64):\n",
    "    # Устанавливаем уровень точности\n",
    "    getcontext().prec = precision - 1 # Добавляем дополнительные цифры для точности в расчетах\n",
    "    \n",
    "    return str(Decimal(get_number).sqrt())"
   ]
  },
  {
   "cell_type": "code",
   "execution_count": 87,
   "metadata": {},
   "outputs": [],
   "source": [
    "'''\n",
    "Все значения до 64-х знаков\n",
    "'''\n",
    "value_pi = '3.14159265358979323846264338327950288419716939937510582097494459' #\tОтношение длины окружности к ее диаметру\n",
    "value_tau =  '6.28318530717958647692528676655900576839433879875021164194988918' # Отношение длины окружности к ее радиусу. Эквивалентно 2pi\n"
   ]
  },
  {
   "cell_type": "code",
   "execution_count": null,
   "metadata": {},
   "outputs": [],
   "source": []
  }
 ],
 "metadata": {
  "kernelspec": {
   "display_name": "Python 3",
   "language": "python",
   "name": "python3"
  },
  "language_info": {
   "codemirror_mode": {
    "name": "ipython",
    "version": 3
   },
   "file_extension": ".py",
   "mimetype": "text/x-python",
   "name": "python",
   "nbconvert_exporter": "python",
   "pygments_lexer": "ipython3",
   "version": "3.10.11"
  }
 },
 "nbformat": 4,
 "nbformat_minor": 2
}
