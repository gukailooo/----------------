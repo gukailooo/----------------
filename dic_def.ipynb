{
 "cells": [
  {
   "cell_type": "code",
   "execution_count": 43,
   "metadata": {},
   "outputs": [],
   "source": [
    "'''\n",
    "Используемые библиотеки\n",
    "'''\n",
    "\n",
    "from decimal import Decimal, getcontext\n",
    "import math\n"
   ]
  },
  {
   "cell_type": "code",
   "execution_count": 61,
   "metadata": {},
   "outputs": [],
   "source": [
    "from decimal import Decimal, getcontext\n",
    "\n",
    "def sqrt_newton(a, precision=64):\n",
    "    # Устанавливаем контекст точности\n",
    "    getcontext().prec = precision + 2  # Добавляем дополнительные цифры для точности в расчетах\n",
    "    a = Decimal(a)\n",
    "    \n",
    "    # Начальное приближение\n",
    "    x = a / 2\n",
    "    \n",
    "    while True:\n",
    "        next_x = (x + a / x) / 2\n",
    "        if abs(next_x - x) < Decimal('1e-' + str(precision)):\n",
    "            return next_x.quantize(Decimal('1.' + '0' * precision))  # Округляем до нужной точности\n",
    "\n"
   ]
  },
  {
   "cell_type": "code",
   "execution_count": 27,
   "metadata": {},
   "outputs": [],
   "source": [
    "'''\n",
    "Все значения до 64-х знаков\n",
    "'''\n",
    "value_pi = '3.14159265358979323846264338327950288419716939937510582097494459' #\tОтношение длины окружности к ее диаметру\n",
    "value_tau =  '6.28318530717958647692528676655900576839433879875021164194988918' # Отношение длины окружности к ее радиусу. Эквивалентно 2pi\n",
    "const_Pythagoras = root(2)\n",
    "const_Theodorus = root(3)\n",
    "\n",
    "sqrt_of_five = root(5)"
   ]
  },
  {
   "cell_type": "code",
   "execution_count": 62,
   "metadata": {},
   "outputs": [
    {
     "data": {
      "text/plain": [
       "1.4142135623730951"
      ]
     },
     "execution_count": 62,
     "metadata": {},
     "output_type": "execute_result"
    }
   ],
   "source": [
    "math.sqrt(2)"
   ]
  },
  {
   "cell_type": "code",
   "execution_count": 76,
   "metadata": {},
   "outputs": [],
   "source": [
    "def sqrt_with_precision(get_number, precision=64):\n",
    "    # Устанавливаем уровень точности\n",
    "    getcontext().prec = precision + 2  # Добавляем дополнительные цифры для точности в расчетах\n",
    "    \n",
    "    return str(Decimal(get_number).sqrt())\n"
   ]
  },
  {
   "cell_type": "code",
   "execution_count": 77,
   "metadata": {},
   "outputs": [
    {
     "data": {
      "text/plain": [
       "'1.41421356237309504880168872420969807856967187537694807317667973799'"
      ]
     },
     "execution_count": 77,
     "metadata": {},
     "output_type": "execute_result"
    }
   ],
   "source": [
    "string = sqrt_with_precision(2)\n",
    "string"
   ]
  },
  {
   "cell_type": "code",
   "execution_count": null,
   "metadata": {},
   "outputs": [],
   "source": []
  }
 ],
 "metadata": {
  "kernelspec": {
   "display_name": "Python 3",
   "language": "python",
   "name": "python3"
  },
  "language_info": {
   "codemirror_mode": {
    "name": "ipython",
    "version": 3
   },
   "file_extension": ".py",
   "mimetype": "text/x-python",
   "name": "python",
   "nbconvert_exporter": "python",
   "pygments_lexer": "ipython3",
   "version": "3.10.11"
  }
 },
 "nbformat": 4,
 "nbformat_minor": 2
}
